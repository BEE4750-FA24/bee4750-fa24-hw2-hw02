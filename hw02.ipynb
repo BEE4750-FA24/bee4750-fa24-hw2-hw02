{
  "cells": [
    {
      "cell_type": "markdown",
      "id": "03556360-56ea-4722-a4c4-e18e12dd3cc3",
      "metadata": {},
      "source": [
        "# BEE 4750 Homework 2: Systems Modeling and Simulation\n",
        "\n",
        "**Name**: Bailey Belinger, Camila Monter, Priya Shah\n",
        "\n",
        "**ID**: 5277347 (bcb87), 5244508 (ps746), 5244001 (cm755)\n",
        "\n",
        "> **Due Date**\n",
        ">\n",
        "> Thursday, 09/19/24, 9:00pm\n",
        "\n",
        "## Overview\n",
        "\n",
        "### Instructions\n",
        "\n",
        "-   Problem 1 asks you to derive a model for water quality in a river\n",
        "    system and use this model to check for regulatory compliance.\n",
        "-   Problem 2 asks you to explore the dynamics and equilibrium stability\n",
        "    of the shallow lake model under a particular set of parameter\n",
        "    values.\n",
        "-   Problem 3 (5750 only) asks you to modify the lake eutrophication\n",
        "    example from Lecture 04 to account for atmospheric deposition.\n",
        "\n",
        "### Load Environment\n",
        "\n",
        "The following code loads the environment and makes sure all needed\n",
        "packages are installed. This should be at the start of most Julia\n",
        "scripts."
      ]
    },
    {
      "cell_type": "code",
      "execution_count": 3,
      "id": "2",
      "metadata": {},
      "outputs": [
        {
          "name": "stderr",
          "output_type": "stream",
          "text": [
            "\u001b[32m\u001b[1m  Activating\u001b[22m\u001b[39m project at `~/HW-2/hw2-last-three-brain-cells`\n"
          ]
        }
      ],
      "source": [
        "import Pkg\n",
        "Pkg.activate(@__DIR__)\n",
        "Pkg.instantiate()"
      ]
    },
    {
      "cell_type": "code",
      "execution_count": 4,
      "id": "4",
      "metadata": {},
      "outputs": [],
      "source": [
        "using Plots\n",
        "using LaTeXStrings\n",
        "using CSV\n",
        "using DataFrames\n",
        "using Roots"
      ]
    },
    {
      "cell_type": "markdown",
      "id": "0e19c1f0-6555-4982-9dcd-0475b45d6b50",
      "metadata": {},
      "source": [
        "## Problems (Total: 50/60 Points)"
      ]
    },
    {
      "cell_type": "markdown",
      "id": "bff6d334-618c-48ba-b61c-7f30ebfec859",
      "metadata": {},
      "source": [
        "### Problem 1 (25 points)\n",
        "\n",
        "A river which flows at 10 km/d is receiving discharges of wastewater\n",
        "contaminated with CRUD from two sources which are 15 km apart, as shown\n",
        "in the Figure below. CRUD decays exponentially in the river at a rate of\n",
        "0.36 $\\mathrm{d}^{-1}$."
      ]
    },
    {
      "cell_type": "markdown",
      "id": "35c816c1-cc2a-42dc-a0f0-92569c04734f",
      "metadata": {},
      "source": [
        "<figure>\n",
        "<img src=\"attachment:figures/river_diagram.png\"\n",
        "alt=\"Schematic of the river system in Problem 1\" />\n",
        "<figcaption aria-hidden=\"true\">Schematic of the river system in Problem\n",
        "1</figcaption>\n",
        "</figure>"
      ]
    },
    {
      "cell_type": "markdown",
      "id": "b978e014-df49-4b50-89ba-f416bb8f6de5",
      "metadata": {},
      "source": [
        "**In this problem**:\n",
        "\n",
        "-   Assuming steady-state conditions, derive a model for the\n",
        "    concentration of CRUD downriver by solving the appropriate\n",
        "    differential equation(s) analytically.\n",
        "-   Determine if the system in compliance with a regulatory limit of 2.5\n",
        "    kg/(1000 m$^3$)."
      ]
    },
    {
      "cell_type": "markdown",
      "id": "64ed87e3",
      "metadata": {},
      "source": [
        "We will begin our derivation with the general advection-dispersion equation in steady-state conditions: $v \\frac{dC}{dx} = -k C$ where v is velocity of the river in km/d, $ \\frac{dC}{dx}$ is the rate of change of CRUD concentration with respect to distance, and kC is the change in CRUD due to exponential decay.\n",
        "\n",
        "We will now solve this differential equation to solve for C, the concentration at any point in the river (x):\n",
        "\n",
        "Rearranging terms to group variables on the same side of the equals sign\n",
        "\n",
        "$ \\frac{dC}{C} = - \\frac{k}{v}dx$\n",
        "\n",
        "Integrating\n",
        "\n",
        "$\\int \\frac{1}{C} \\, dC = -\\frac{v}{k} \\int dx$\n",
        "\n",
        "lnC = $ \\frac{k}{v}x + constant $\n",
        "\n",
        "Exponentiating to solve for C and rewriting constant as $C_0$, where $C_0$ is the initial concentration of CRUD in the river inflow\n",
        "\n",
        "$C = e^{-\\frac{v}{k} x + \\text{constant}}$\n",
        "\n",
        "We arrive at the general form of equation for concentration of CRUD at any point x downstream in the river based on one input and one initial\n",
        "\n",
        "$C(x) = C_0e^{-\\frac{v}{k}x}$\n",
        "\n",
        "We must now apply this equation to our given boundary conditions, for the initial river inflow, discharge #1, and discharge #2.\n",
        "\n",
        "The concentration of the intial river inflow is given as $C_{\\text{initial}} = 0.5 kg / 1000m^{3}$\n",
        "\n",
        "The concentration from discharge #1 (at x=0) can be defined as $C_{1}$ and the concentration from discharge #2 (at x = 15) can be defined as $C_{2}$.\n",
        "\n",
        "Combining the general form of the decay concentration derived above for the three inputs into the river we arrive at the following:\n",
        "\n",
        "$C(x) = C_1 e^{-0.036 x} + C_2 e^{-0.036 (x - 15)} + C_{\\text{initial}} e^{-0.036 x}$\n",
        "\n",
        "Recall that the decay constant k was stated in the problem to be 0.36 / day and the river velocity v to be 10 km / day. Therefore, inputting those values into their respective variables we arrive at an exponent of = $ - \\frac{k}{v} = - \\frac{0.36}{10} = 0.036$\n",
        "\n",
        "However, this equation is only applicable after and at the second discharge point (x = 15 km). Any point before this must only consider the initial concentration and discharge #1 of SCUM.\n",
        "\n",
        "So for x = 0 km to x = 15 km, we must implement the following:\n",
        "\n",
        "$C(x) = C_1 e^{-0.036 x} + C_{\\text{initial}} e^{-0.036 x}$"
      ]
    },
    {
      "cell_type": "markdown",
      "id": "1ffc97c3",
      "metadata": {},
      "source": [
        "In order to determine if the system is in compliance with the regulatory limit of $2.5 kg/(1000 m^{3})$ we must write a function that outputs the concentration at a given distance downriver."
      ]
    },
    {
      "cell_type": "code",
      "execution_count": 5,
      "id": "637cbd03",
      "metadata": {},
      "outputs": [
        {
          "name": "stdout",
          "output_type": "stream",
          "text": [
            "System is not in compliance with regulatory limit.CRUD_conc(x) = 12.092835283751674\n"
          ]
        },
        {
          "data": {
            "text/plain": [
              "12.092835283751674"
            ]
          },
          "metadata": {},
          "output_type": "display_data"
        }
      ],
      "source": [
        "function CRUD_conc(x)\n",
        "    C1 = 9;\n",
        "    C2 = 7;\n",
        "    Ci = 0.5;\n",
        "    if x >= 15\n",
        "        C = C1*exp(-0.036*x) + C2*exp(-0.036*(x-15)) + Ci*exp(-0.036*x)\n",
        "    else\n",
        "        C = x = C1*exp(-0.036*x) + Ci*exp(-0.036*x)\n",
        "    end\n",
        "    if C > 2.5\n",
        "        print(\"System is not in compliance with regulatory limit.\")\n",
        "    end\n",
        "    return C\n",
        "end\n",
        "\n",
        "x = 16\n",
        "@show CRUD_conc(x)"
      ]
    },
    {
      "cell_type": "markdown",
      "id": "e15c726e-992b-4910-bee8-3a5ca616a393",
      "metadata": {},
      "source": [
        "> **Tip**\n",
        ">\n",
        "> Formulate your model in terms of distance downriver, rather than\n",
        "> leaving it in terms of time from discharge.\n",
        "\n",
        "### Problem 2 (25 points)\n",
        "\n",
        "Consider the shallow lake model from class:\n",
        "\n",
        "$$\n",
        "\\begin{aligned}\n",
        "X_{t+1} &= X_t + a_t + y_t + \\frac{X_t^q}{1 + X_t^q} - bX_t, \\\\\n",
        "y_t &\\sim \\text{LogNormal}(\\mu, \\sigma^2),\n",
        "\\end{aligned}\n",
        "$$\n",
        "\n",
        "where:\n",
        "\n",
        "-   $X_t$ is the lake phosphorous (P) concentration at time $t$;\n",
        "-   $a_t$ is the point-source P release at time $t$;\n",
        "-   $y_t$ is the non-point-source P release at time $t$, which is\n",
        "    treated as random from a LogNormal distribution with mean $\\mu$ and\n",
        "    standard deviation $\\sigma$;\n",
        "-   $b$ is the linear rate of P outflow;\n",
        "-   $q$ is a parameter influencing the rate of P recycling from the\n",
        "    sediment.\n",
        "\n",
        "**In this problem**:\n",
        "\n",
        "-   Make an initial conditions plot for the model dynamics for $b=0.5$,\n",
        "    $q=1.5$, $y_t=0$, and $a_t=0$ for $t=0, \\ldots, 30$. What are the\n",
        "    equilibria? What can you say about the resilience of the system?\n",
        "\n",
        "    > **Finding equilibria**\n",
        "    >\n",
        "    > Use [`Roots.jl`](https://juliamath.github.io/Roots.jl/stable/) to\n",
        "    > find the equilibria by solving for values where $X_{t+1} = X_t$.\n",
        "    > For example, if you have functions `X_outflow(X,b)` and\n",
        "    > `X_recycling(X,q)`, you could create a function\n",
        "    > `X_delta(x, a) = a + X_recycling(x) - X_outflow(x)` and call\n",
        "    > `Roots.find_zero(x -> X_delta(x, a), x₀)`, where `x₀` is an\n",
        "    > initial value for the search (you might need to use your plot to\n",
        "    > find values for `x₀` near each of the “true” equilibria).\n",
        "\n",
        "-   Repeat the analysis with $a_t=0.02$ for all $t$. What are the new\n",
        "    equilibria? How have the dynamics and resilience of the system\n",
        "    changed?"
      ]
    },
    {
      "cell_type": "code",
      "execution_count": 6,
      "id": "f1997694",
      "metadata": {},
      "outputs": [
        {
          "ename": "UndefVarError",
          "evalue": "UndefVarError: `mm` not defined",
          "output_type": "error",
          "traceback": [
            "UndefVarError: `mm` not defined\n",
            "\n",
            "Stacktrace:\n",
            " [1] top-level scope\n",
            "   @ ~/HW-2/hw2-last-three-brain-cells/jl_notebook_cell_df34fa98e69747e1a8f8a730347b8e2f_X14sZmlsZQ==.jl:38"
          ]
        }
      ],
      "source": [
        "b = 0.4\n",
        "q = 2.5\n",
        "yt = 0\n",
        "a = 0\n",
        "t = collect(0:1:30)\n",
        "\n",
        "function X_outflow(X,b)\n",
        "    outflow = -bX\n",
        "    return outflow\n",
        "end\n",
        "\n",
        "function X_recycling(X,q)\n",
        "    recyling = X^q/(1+X^q)\n",
        "    return recyling\n",
        "end\n",
        "\n",
        "function X_delta(x, a)\n",
        "    output = a + X_recycling - X_outflow\n",
        "    return output\n",
        "    x0 = 10\n",
        "    Roots.find_zero(x -> X_delta(x,a), x0)\n",
        "end\n",
        "\n",
        "\n",
        "# define functions for lake recycling and outflows\n",
        "lake_P_cycling(x, q) = x.^q ./ (1 .+ x.^q);\n",
        "lake_P_out(x, b) = b .* x;\n",
        "\n",
        "T = 30\n",
        "X_vals = collect(0.0:0.1:2.5)\n",
        "function simulate_lake_P(X_ic, T, b, q, a, y)\n",
        "    X = zeros(T)\n",
        "    X[1] = X_ic\n",
        "    for t = 2:T\n",
        "        X[t] = X[t-1] .+ a[t] .+ y[t].+ lake_P_cycling(X[t-1], q) .- lake_P_out(X[t-1], b)\n",
        "    end\n",
        "    return X\n",
        "end\n",
        "X = map(x -> simulate_lake_P(x, T, 0.4, 2.5, zeros(T), zeros(T)), X_vals)\n",
        "p_noinflow = plot(X, label=false, ylabel=L\"X_t\", xlabel=\"Time\", guidefontsize=18, tickfontsize=16, size=(600, 500), left_margin=5mm, bottom_margin=5mm)"
      ]
    },
    {
      "cell_type": "markdown",
      "id": "e4b0b2d9-9b94-48a5-a621-279ba2070bba",
      "metadata": {},
      "source": [
        "\n",
        "### Problem 3 (10 points)\n",
        "\n",
        "**This problem is only required for students in BEE 5750**.\n",
        "\n",
        "Consider the lake eutrophication example from [Lecture\n",
        "04](https://viveks.me/environmental-systems-analysis/slides/lecture03-1-eutrophication-modeling.html#/title-slide).\n",
        "Suppose that phosphorous is also atmospherically deposited onto the lake\n",
        "surface at a rate of\n",
        "$1.6 \\times 10^{-4} \\mathrm{kg/(yr} \\cdot \\mathrm{m}^2)$, which is then\n",
        "instantly mixed into the lake. Derive a model for the lake phosphorous\n",
        "concentration and find the maximum allowable point source phosphorous\n",
        "loading if the goal is to keep lake concentrations below 0.02 mg/L."
      ]
    },
    {
      "cell_type": "markdown",
      "id": "e71b3287-535a-4575-9fc3-67603491f050",
      "metadata": {},
      "source": [
        "## References\n",
        "\n",
        "List any external references consulted, including classmates."
      ]
    }
  ],
  "metadata": {
    "kernel_info": {
      "name": "julia"
    },
    "kernelspec": {
      "display_name": "Julia 1.10.5",
      "language": "julia",
      "name": "julia-1.10"
    },
    "language_info": {
      "file_extension": ".jl",
      "mimetype": "application/julia",
      "name": "julia",
      "version": "1.10.5"
    }
  },
  "nbformat": 4,
  "nbformat_minor": 5
}
